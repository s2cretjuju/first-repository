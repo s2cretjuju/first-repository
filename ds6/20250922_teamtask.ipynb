{
  "nbformat": 4,
  "nbformat_minor": 0,
  "metadata": {
    "colab": {
      "provenance": [],
      "include_colab_link": true
    },
    "kernelspec": {
      "name": "python3",
      "display_name": "Python 3"
    },
    "language_info": {
      "name": "python"
    }
  },
  "cells": [
    {
      "cell_type": "markdown",
      "metadata": {
        "id": "view-in-github",
        "colab_type": "text"
      },
      "source": [
        "<a href=\"https://colab.research.google.com/github/s2cretjuju/first-repository/blob/master/ds6/250922_teamtask.ipynb\" target=\"_parent\"><img src=\"https://colab.research.google.com/assets/colab-badge.svg\" alt=\"Open In Colab\"/></a>"
      ]
    },
    {
      "cell_type": "code",
      "execution_count": 25,
      "metadata": {
        "colab": {
          "base_uri": "https://localhost:8080/"
        },
        "id": "nIxJtKhU-5oI",
        "outputId": "edd9824b-e8d0-4fc5-e719-8462da86b855"
      },
      "outputs": [
        {
          "output_type": "stream",
          "name": "stdout",
          "text": [
            "숫자 다섯자리를 입력하시오. ex) 27462: 12345\n",
            "[7, 3, 0, 6, 5]\n",
            ">>> 1 strike 1 ball \n"
          ]
        }
      ],
      "source": [
        "import random\n",
        "\n",
        "seq = list(range(10)) # 0부터 9까지 숫자 리스트 생성\n",
        "answer = random.sample(seq, 5) # 중복 없는 5개의 숫자 랜덤 추출\n",
        "\n",
        "guess = input(\"숫자 다섯자리를 입력하시오. ex) 27462: \") # 숫자 문자열로 입력 받기\n",
        "print(answer)\n",
        "\n",
        "strike = 0\n",
        "ball = 0\n",
        "\n",
        "for i in range(0,5):\n",
        "  if int(guess[i]) == answer[i]: # guess type을 int로 변경, guess의 각 자리수와 answer의 각 자리수 비교\n",
        "    strike += 1\n",
        "    continue\n",
        "  elif int(guess[i]) in answer: # strike와 숫자 비교\n",
        "    ball += 1\n",
        "\n",
        "print(f\">>> {strike} strike {ball} ball \")"
      ]
    }
  ]
}
