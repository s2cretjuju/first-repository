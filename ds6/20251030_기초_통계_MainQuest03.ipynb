{
  "nbformat": 4,
  "nbformat_minor": 0,
  "metadata": {
    "colab": {
      "provenance": [],
      "include_colab_link": true
    },
    "kernelspec": {
      "name": "python3",
      "display_name": "Python 3"
    },
    "language_info": {
      "name": "python"
    }
  },
  "cells": [
    {
      "cell_type": "markdown",
      "metadata": {
        "id": "view-in-github",
        "colab_type": "text"
      },
      "source": [
        "<a href=\"https://colab.research.google.com/github/s2cretjuju/first-repository/blob/master/ds6/20251030_%EA%B8%B0%EC%B4%88_%ED%86%B5%EA%B3%84_MainQuest03.ipynb\" target=\"_parent\"><img src=\"https://colab.research.google.com/assets/colab-badge.svg\" alt=\"Open In Colab\"/></a>"
      ]
    },
    {
      "cell_type": "code",
      "execution_count": 211,
      "metadata": {
        "id": "roCZN58vEV8j"
      },
      "outputs": [],
      "source": [
        "import pandas as pd\n",
        "import numpy as np\n",
        "import matplotlib.pyplot as plt\n",
        "import seaborn as sns\n",
        "from scipy import stats"
      ]
    },
    {
      "cell_type": "code",
      "source": [
        "!pip install kagglehub"
      ],
      "metadata": {
        "id": "Ln2ta7MtEeBn",
        "colab": {
          "base_uri": "https://localhost:8080/"
        },
        "outputId": "fff91182-c6a5-484a-b048-1309ffc975ab"
      },
      "execution_count": 212,
      "outputs": [
        {
          "output_type": "stream",
          "name": "stdout",
          "text": [
            "Requirement already satisfied: kagglehub in /usr/local/lib/python3.12/dist-packages (0.3.13)\n",
            "Requirement already satisfied: packaging in /usr/local/lib/python3.12/dist-packages (from kagglehub) (25.0)\n",
            "Requirement already satisfied: pyyaml in /usr/local/lib/python3.12/dist-packages (from kagglehub) (6.0.3)\n",
            "Requirement already satisfied: requests in /usr/local/lib/python3.12/dist-packages (from kagglehub) (2.32.4)\n",
            "Requirement already satisfied: tqdm in /usr/local/lib/python3.12/dist-packages (from kagglehub) (4.67.1)\n",
            "Requirement already satisfied: charset_normalizer<4,>=2 in /usr/local/lib/python3.12/dist-packages (from requests->kagglehub) (3.4.4)\n",
            "Requirement already satisfied: idna<4,>=2.5 in /usr/local/lib/python3.12/dist-packages (from requests->kagglehub) (3.11)\n",
            "Requirement already satisfied: urllib3<3,>=1.21.1 in /usr/local/lib/python3.12/dist-packages (from requests->kagglehub) (2.5.0)\n",
            "Requirement already satisfied: certifi>=2017.4.17 in /usr/local/lib/python3.12/dist-packages (from requests->kagglehub) (2025.10.5)\n"
          ]
        }
      ]
    },
    {
      "cell_type": "code",
      "source": [
        "import kagglehub\n",
        "import os\n",
        "\n",
        "# Download latest version\n",
        "path = kagglehub.dataset_download(\"tunguz/online-retail\")\n",
        "\n",
        "print(\"Path to dataset files:\", path)\n",
        "df = pd.read_csv(path + '/' + os.listdir(path)[0], encoding='latin1')\n",
        "df.shape"
      ],
      "metadata": {
        "id": "nzm86qcTEXKO",
        "colab": {
          "base_uri": "https://localhost:8080/"
        },
        "outputId": "0962c1b6-d8b2-4bdc-958e-b77cf4ec54f3"
      },
      "execution_count": 213,
      "outputs": [
        {
          "output_type": "stream",
          "name": "stdout",
          "text": [
            "Using Colab cache for faster access to the 'online-retail' dataset.\n",
            "Path to dataset files: /kaggle/input/online-retail\n"
          ]
        },
        {
          "output_type": "execute_result",
          "data": {
            "text/plain": [
              "(541909, 8)"
            ]
          },
          "metadata": {},
          "execution_count": 213
        }
      ]
    },
    {
      "cell_type": "code",
      "source": [
        "df.head()"
      ],
      "metadata": {
        "id": "1a1z6CpsMVmm",
        "colab": {
          "base_uri": "https://localhost:8080/",
          "height": 206
        },
        "outputId": "3c660b79-354c-4588-ba56-70416fade951"
      },
      "execution_count": 214,
      "outputs": [
        {
          "output_type": "execute_result",
          "data": {
            "text/plain": [
              "  InvoiceNo StockCode                          Description  Quantity  \\\n",
              "0    536365    85123A   WHITE HANGING HEART T-LIGHT HOLDER         6   \n",
              "1    536365     71053                  WHITE METAL LANTERN         6   \n",
              "2    536365    84406B       CREAM CUPID HEARTS COAT HANGER         8   \n",
              "3    536365    84029G  KNITTED UNION FLAG HOT WATER BOTTLE         6   \n",
              "4    536365    84029E       RED WOOLLY HOTTIE WHITE HEART.         6   \n",
              "\n",
              "    InvoiceDate  UnitPrice  CustomerID         Country  \n",
              "0  12/1/10 8:26       2.55     17850.0  United Kingdom  \n",
              "1  12/1/10 8:26       3.39     17850.0  United Kingdom  \n",
              "2  12/1/10 8:26       2.75     17850.0  United Kingdom  \n",
              "3  12/1/10 8:26       3.39     17850.0  United Kingdom  \n",
              "4  12/1/10 8:26       3.39     17850.0  United Kingdom  "
            ],
            "text/html": [
              "\n",
              "  <div id=\"df-75b572bd-134e-4ddc-a363-e4cfa9ab4d80\" class=\"colab-df-container\">\n",
              "    <div>\n",
              "<style scoped>\n",
              "    .dataframe tbody tr th:only-of-type {\n",
              "        vertical-align: middle;\n",
              "    }\n",
              "\n",
              "    .dataframe tbody tr th {\n",
              "        vertical-align: top;\n",
              "    }\n",
              "\n",
              "    .dataframe thead th {\n",
              "        text-align: right;\n",
              "    }\n",
              "</style>\n",
              "<table border=\"1\" class=\"dataframe\">\n",
              "  <thead>\n",
              "    <tr style=\"text-align: right;\">\n",
              "      <th></th>\n",
              "      <th>InvoiceNo</th>\n",
              "      <th>StockCode</th>\n",
              "      <th>Description</th>\n",
              "      <th>Quantity</th>\n",
              "      <th>InvoiceDate</th>\n",
              "      <th>UnitPrice</th>\n",
              "      <th>CustomerID</th>\n",
              "      <th>Country</th>\n",
              "    </tr>\n",
              "  </thead>\n",
              "  <tbody>\n",
              "    <tr>\n",
              "      <th>0</th>\n",
              "      <td>536365</td>\n",
              "      <td>85123A</td>\n",
              "      <td>WHITE HANGING HEART T-LIGHT HOLDER</td>\n",
              "      <td>6</td>\n",
              "      <td>12/1/10 8:26</td>\n",
              "      <td>2.55</td>\n",
              "      <td>17850.0</td>\n",
              "      <td>United Kingdom</td>\n",
              "    </tr>\n",
              "    <tr>\n",
              "      <th>1</th>\n",
              "      <td>536365</td>\n",
              "      <td>71053</td>\n",
              "      <td>WHITE METAL LANTERN</td>\n",
              "      <td>6</td>\n",
              "      <td>12/1/10 8:26</td>\n",
              "      <td>3.39</td>\n",
              "      <td>17850.0</td>\n",
              "      <td>United Kingdom</td>\n",
              "    </tr>\n",
              "    <tr>\n",
              "      <th>2</th>\n",
              "      <td>536365</td>\n",
              "      <td>84406B</td>\n",
              "      <td>CREAM CUPID HEARTS COAT HANGER</td>\n",
              "      <td>8</td>\n",
              "      <td>12/1/10 8:26</td>\n",
              "      <td>2.75</td>\n",
              "      <td>17850.0</td>\n",
              "      <td>United Kingdom</td>\n",
              "    </tr>\n",
              "    <tr>\n",
              "      <th>3</th>\n",
              "      <td>536365</td>\n",
              "      <td>84029G</td>\n",
              "      <td>KNITTED UNION FLAG HOT WATER BOTTLE</td>\n",
              "      <td>6</td>\n",
              "      <td>12/1/10 8:26</td>\n",
              "      <td>3.39</td>\n",
              "      <td>17850.0</td>\n",
              "      <td>United Kingdom</td>\n",
              "    </tr>\n",
              "    <tr>\n",
              "      <th>4</th>\n",
              "      <td>536365</td>\n",
              "      <td>84029E</td>\n",
              "      <td>RED WOOLLY HOTTIE WHITE HEART.</td>\n",
              "      <td>6</td>\n",
              "      <td>12/1/10 8:26</td>\n",
              "      <td>3.39</td>\n",
              "      <td>17850.0</td>\n",
              "      <td>United Kingdom</td>\n",
              "    </tr>\n",
              "  </tbody>\n",
              "</table>\n",
              "</div>\n",
              "    <div class=\"colab-df-buttons\">\n",
              "\n",
              "  <div class=\"colab-df-container\">\n",
              "    <button class=\"colab-df-convert\" onclick=\"convertToInteractive('df-75b572bd-134e-4ddc-a363-e4cfa9ab4d80')\"\n",
              "            title=\"Convert this dataframe to an interactive table.\"\n",
              "            style=\"display:none;\">\n",
              "\n",
              "  <svg xmlns=\"http://www.w3.org/2000/svg\" height=\"24px\" viewBox=\"0 -960 960 960\">\n",
              "    <path d=\"M120-120v-720h720v720H120Zm60-500h600v-160H180v160Zm220 220h160v-160H400v160Zm0 220h160v-160H400v160ZM180-400h160v-160H180v160Zm440 0h160v-160H620v160ZM180-180h160v-160H180v160Zm440 0h160v-160H620v160Z\"/>\n",
              "  </svg>\n",
              "    </button>\n",
              "\n",
              "  <style>\n",
              "    .colab-df-container {\n",
              "      display:flex;\n",
              "      gap: 12px;\n",
              "    }\n",
              "\n",
              "    .colab-df-convert {\n",
              "      background-color: #E8F0FE;\n",
              "      border: none;\n",
              "      border-radius: 50%;\n",
              "      cursor: pointer;\n",
              "      display: none;\n",
              "      fill: #1967D2;\n",
              "      height: 32px;\n",
              "      padding: 0 0 0 0;\n",
              "      width: 32px;\n",
              "    }\n",
              "\n",
              "    .colab-df-convert:hover {\n",
              "      background-color: #E2EBFA;\n",
              "      box-shadow: 0px 1px 2px rgba(60, 64, 67, 0.3), 0px 1px 3px 1px rgba(60, 64, 67, 0.15);\n",
              "      fill: #174EA6;\n",
              "    }\n",
              "\n",
              "    .colab-df-buttons div {\n",
              "      margin-bottom: 4px;\n",
              "    }\n",
              "\n",
              "    [theme=dark] .colab-df-convert {\n",
              "      background-color: #3B4455;\n",
              "      fill: #D2E3FC;\n",
              "    }\n",
              "\n",
              "    [theme=dark] .colab-df-convert:hover {\n",
              "      background-color: #434B5C;\n",
              "      box-shadow: 0px 1px 3px 1px rgba(0, 0, 0, 0.15);\n",
              "      filter: drop-shadow(0px 1px 2px rgba(0, 0, 0, 0.3));\n",
              "      fill: #FFFFFF;\n",
              "    }\n",
              "  </style>\n",
              "\n",
              "    <script>\n",
              "      const buttonEl =\n",
              "        document.querySelector('#df-75b572bd-134e-4ddc-a363-e4cfa9ab4d80 button.colab-df-convert');\n",
              "      buttonEl.style.display =\n",
              "        google.colab.kernel.accessAllowed ? 'block' : 'none';\n",
              "\n",
              "      async function convertToInteractive(key) {\n",
              "        const element = document.querySelector('#df-75b572bd-134e-4ddc-a363-e4cfa9ab4d80');\n",
              "        const dataTable =\n",
              "          await google.colab.kernel.invokeFunction('convertToInteractive',\n",
              "                                                    [key], {});\n",
              "        if (!dataTable) return;\n",
              "\n",
              "        const docLinkHtml = 'Like what you see? Visit the ' +\n",
              "          '<a target=\"_blank\" href=https://colab.research.google.com/notebooks/data_table.ipynb>data table notebook</a>'\n",
              "          + ' to learn more about interactive tables.';\n",
              "        element.innerHTML = '';\n",
              "        dataTable['output_type'] = 'display_data';\n",
              "        await google.colab.output.renderOutput(dataTable, element);\n",
              "        const docLink = document.createElement('div');\n",
              "        docLink.innerHTML = docLinkHtml;\n",
              "        element.appendChild(docLink);\n",
              "      }\n",
              "    </script>\n",
              "  </div>\n",
              "\n",
              "\n",
              "    <div id=\"df-79b628d9-9130-4e56-a5ed-af0a07b47001\">\n",
              "      <button class=\"colab-df-quickchart\" onclick=\"quickchart('df-79b628d9-9130-4e56-a5ed-af0a07b47001')\"\n",
              "                title=\"Suggest charts\"\n",
              "                style=\"display:none;\">\n",
              "\n",
              "<svg xmlns=\"http://www.w3.org/2000/svg\" height=\"24px\"viewBox=\"0 0 24 24\"\n",
              "     width=\"24px\">\n",
              "    <g>\n",
              "        <path d=\"M19 3H5c-1.1 0-2 .9-2 2v14c0 1.1.9 2 2 2h14c1.1 0 2-.9 2-2V5c0-1.1-.9-2-2-2zM9 17H7v-7h2v7zm4 0h-2V7h2v10zm4 0h-2v-4h2v4z\"/>\n",
              "    </g>\n",
              "</svg>\n",
              "      </button>\n",
              "\n",
              "<style>\n",
              "  .colab-df-quickchart {\n",
              "      --bg-color: #E8F0FE;\n",
              "      --fill-color: #1967D2;\n",
              "      --hover-bg-color: #E2EBFA;\n",
              "      --hover-fill-color: #174EA6;\n",
              "      --disabled-fill-color: #AAA;\n",
              "      --disabled-bg-color: #DDD;\n",
              "  }\n",
              "\n",
              "  [theme=dark] .colab-df-quickchart {\n",
              "      --bg-color: #3B4455;\n",
              "      --fill-color: #D2E3FC;\n",
              "      --hover-bg-color: #434B5C;\n",
              "      --hover-fill-color: #FFFFFF;\n",
              "      --disabled-bg-color: #3B4455;\n",
              "      --disabled-fill-color: #666;\n",
              "  }\n",
              "\n",
              "  .colab-df-quickchart {\n",
              "    background-color: var(--bg-color);\n",
              "    border: none;\n",
              "    border-radius: 50%;\n",
              "    cursor: pointer;\n",
              "    display: none;\n",
              "    fill: var(--fill-color);\n",
              "    height: 32px;\n",
              "    padding: 0;\n",
              "    width: 32px;\n",
              "  }\n",
              "\n",
              "  .colab-df-quickchart:hover {\n",
              "    background-color: var(--hover-bg-color);\n",
              "    box-shadow: 0 1px 2px rgba(60, 64, 67, 0.3), 0 1px 3px 1px rgba(60, 64, 67, 0.15);\n",
              "    fill: var(--button-hover-fill-color);\n",
              "  }\n",
              "\n",
              "  .colab-df-quickchart-complete:disabled,\n",
              "  .colab-df-quickchart-complete:disabled:hover {\n",
              "    background-color: var(--disabled-bg-color);\n",
              "    fill: var(--disabled-fill-color);\n",
              "    box-shadow: none;\n",
              "  }\n",
              "\n",
              "  .colab-df-spinner {\n",
              "    border: 2px solid var(--fill-color);\n",
              "    border-color: transparent;\n",
              "    border-bottom-color: var(--fill-color);\n",
              "    animation:\n",
              "      spin 1s steps(1) infinite;\n",
              "  }\n",
              "\n",
              "  @keyframes spin {\n",
              "    0% {\n",
              "      border-color: transparent;\n",
              "      border-bottom-color: var(--fill-color);\n",
              "      border-left-color: var(--fill-color);\n",
              "    }\n",
              "    20% {\n",
              "      border-color: transparent;\n",
              "      border-left-color: var(--fill-color);\n",
              "      border-top-color: var(--fill-color);\n",
              "    }\n",
              "    30% {\n",
              "      border-color: transparent;\n",
              "      border-left-color: var(--fill-color);\n",
              "      border-top-color: var(--fill-color);\n",
              "      border-right-color: var(--fill-color);\n",
              "    }\n",
              "    40% {\n",
              "      border-color: transparent;\n",
              "      border-right-color: var(--fill-color);\n",
              "      border-top-color: var(--fill-color);\n",
              "    }\n",
              "    60% {\n",
              "      border-color: transparent;\n",
              "      border-right-color: var(--fill-color);\n",
              "    }\n",
              "    80% {\n",
              "      border-color: transparent;\n",
              "      border-right-color: var(--fill-color);\n",
              "      border-bottom-color: var(--fill-color);\n",
              "    }\n",
              "    90% {\n",
              "      border-color: transparent;\n",
              "      border-bottom-color: var(--fill-color);\n",
              "    }\n",
              "  }\n",
              "</style>\n",
              "\n",
              "      <script>\n",
              "        async function quickchart(key) {\n",
              "          const quickchartButtonEl =\n",
              "            document.querySelector('#' + key + ' button');\n",
              "          quickchartButtonEl.disabled = true;  // To prevent multiple clicks.\n",
              "          quickchartButtonEl.classList.add('colab-df-spinner');\n",
              "          try {\n",
              "            const charts = await google.colab.kernel.invokeFunction(\n",
              "                'suggestCharts', [key], {});\n",
              "          } catch (error) {\n",
              "            console.error('Error during call to suggestCharts:', error);\n",
              "          }\n",
              "          quickchartButtonEl.classList.remove('colab-df-spinner');\n",
              "          quickchartButtonEl.classList.add('colab-df-quickchart-complete');\n",
              "        }\n",
              "        (() => {\n",
              "          let quickchartButtonEl =\n",
              "            document.querySelector('#df-79b628d9-9130-4e56-a5ed-af0a07b47001 button');\n",
              "          quickchartButtonEl.style.display =\n",
              "            google.colab.kernel.accessAllowed ? 'block' : 'none';\n",
              "        })();\n",
              "      </script>\n",
              "    </div>\n",
              "\n",
              "    </div>\n",
              "  </div>\n"
            ],
            "application/vnd.google.colaboratory.intrinsic+json": {
              "type": "dataframe",
              "variable_name": "df"
            }
          },
          "metadata": {},
          "execution_count": 214
        }
      ]
    },
    {
      "cell_type": "code",
      "source": [
        "df.info()"
      ],
      "metadata": {
        "id": "L0HBCqRrKnx4",
        "colab": {
          "base_uri": "https://localhost:8080/"
        },
        "outputId": "517275ee-2cba-4e61-d855-6e571daf36b9"
      },
      "execution_count": 215,
      "outputs": [
        {
          "output_type": "stream",
          "name": "stdout",
          "text": [
            "<class 'pandas.core.frame.DataFrame'>\n",
            "RangeIndex: 541909 entries, 0 to 541908\n",
            "Data columns (total 8 columns):\n",
            " #   Column       Non-Null Count   Dtype  \n",
            "---  ------       --------------   -----  \n",
            " 0   InvoiceNo    541909 non-null  object \n",
            " 1   StockCode    541909 non-null  object \n",
            " 2   Description  540455 non-null  object \n",
            " 3   Quantity     541909 non-null  int64  \n",
            " 4   InvoiceDate  541909 non-null  object \n",
            " 5   UnitPrice    541909 non-null  float64\n",
            " 6   CustomerID   406829 non-null  float64\n",
            " 7   Country      541909 non-null  object \n",
            "dtypes: float64(2), int64(1), object(5)\n",
            "memory usage: 33.1+ MB\n"
          ]
        }
      ]
    },
    {
      "cell_type": "code",
      "source": [
        "# 주문 가격 피쳐 생성\n",
        "df[\"TotalPrice\"] = df[\"Quantity\"] * df[\"UnitPrice\"]"
      ],
      "metadata": {
        "id": "9eMYZRXsMvDk"
      },
      "execution_count": 216,
      "outputs": []
    },
    {
      "cell_type": "code",
      "source": [
        "# 'InvoiceDate' 컬럼을 이용하여 주중과 주말을 구분\n",
        "df['InvoiceDate'] = pd.to_datetime(df['InvoiceDate'])\n",
        "df['DayOfWeek'] = df['InvoiceDate'].dt.dayofweek\n",
        "\n",
        "# 'InvoiceDate' 컬럼 이용하여 판매 월 추출\n",
        "df[\"InvoiceDate\"] = pd.to_datetime(df[\"InvoiceDate\"].astype(str))\n",
        "df[\"InvoiceMonth\"] = df[\"InvoiceDate\"].dt.month"
      ],
      "metadata": {
        "id": "Yjh3OImd9Yms",
        "colab": {
          "base_uri": "https://localhost:8080/"
        },
        "outputId": "10281507-3cbe-48af-c77d-0c3c4b1325b9"
      },
      "execution_count": 217,
      "outputs": [
        {
          "output_type": "stream",
          "name": "stderr",
          "text": [
            "/tmp/ipython-input-3844768752.py:2: UserWarning: Could not infer format, so each element will be parsed individually, falling back to `dateutil`. To ensure parsing is consistent and as-expected, please specify a format.\n",
            "  df['InvoiceDate'] = pd.to_datetime(df['InvoiceDate'])\n"
          ]
        }
      ]
    },
    {
      "cell_type": "markdown",
      "source": [
        "# **1. 모집단과 표본 집단의 TotalPrice를 비교해 주세요.**\n",
        "\n",
        "* 데이터셋에서 무작위로 1000개의 표본을 추출하세요.\n",
        "* 추출된 표본과 전체 데이터셋의 'TotalPrice'에 대해 평균과 표준편차를 비교해주세요.  \n",
        "* 중심극한정리를 사용해 모집단과 표본의 차이를 설명해주세요."
      ],
      "metadata": {
        "id": "JT3nUp9NMpGi"
      }
    },
    {
      "cell_type": "code",
      "source": [
        "# TotalPrice가 0 이하인 값 제거\n",
        "df_clean = df[df[\"TotalPrice\"] > 0].copy()"
      ],
      "metadata": {
        "id": "8r6gxWWIzMVz"
      },
      "execution_count": 218,
      "outputs": []
    },
    {
      "cell_type": "code",
      "source": [
        "# 모집단의 TotalPrice 통계량 계산\n",
        "pop_mean = df_clean['TotalPrice'].mean()\n",
        "pop_std = df_clean['TotalPrice'].std()\n",
        "pop_size = len(df_clean)"
      ],
      "metadata": {
        "id": "S8RBa-igzMTI"
      },
      "execution_count": 219,
      "outputs": []
    },
    {
      "cell_type": "code",
      "source": [
        "# 표본 1000개 무작위 추출\n",
        "sample_df = df_clean.sample(n=1000, random_state=42, replace = False)"
      ],
      "metadata": {
        "id": "R_RZHkaFzMQP"
      },
      "execution_count": 220,
      "outputs": []
    },
    {
      "cell_type": "code",
      "source": [
        "# 표본집단의 TotalPrice 통계량 계산\n",
        "sample_mean = sample_df['TotalPrice'].mean()\n",
        "sample_std = sample_df['TotalPrice'].std()\n",
        "sample_size = len(sample_df)"
      ],
      "metadata": {
        "id": "tvyvO43SzMNd"
      },
      "execution_count": 221,
      "outputs": []
    },
    {
      "cell_type": "code",
      "source": [
        "# 결과 출력\n",
        "print(f'--- 모집단 정보 (Total Price > 0) ---')\n",
        "print(f'모집단 크기: {pop_size}')\n",
        "print(f'모집단 평균(μ): {pop_mean: .4f}')\n",
        "print(f'모집단 표준편차(σ): {pop_std: .4f}')\n",
        "\n",
        "print(f'\\n--- 표본집단 정보 (n = {sample_size}) ---')\n",
        "print(f'표본 평균(x̄): {sample_mean: .4f}')\n",
        "print(f'표본 표준편차(s): {sample_std: .4f}')"
      ],
      "metadata": {
        "colab": {
          "base_uri": "https://localhost:8080/"
        },
        "id": "HKv74QzfzMKV",
        "outputId": "690cbb89-3017-42f9-9cfb-8948adb0c5d7"
      },
      "execution_count": 222,
      "outputs": [
        {
          "output_type": "stream",
          "name": "stdout",
          "text": [
            "--- 모집단 정보 (Total Price > 0) ---\n",
            "모집단 크기: 530104\n",
            "모집단 평균(μ):  20.1219\n",
            "모집단 표준편차(σ):  270.3567\n",
            "\n",
            "--- 표본집단 정보 (n = 1000) ---\n",
            "표본 평균(x̄):  19.9782\n",
            "표본 표준편차(s):  54.4886\n"
          ]
        }
      ]
    },
    {
      "cell_type": "markdown",
      "source": [
        "**1. 모평균과 표본평균의 차이(μ vs x̄)**\n",
        "\n",
        "* 표본 오차 (sampling error): 모평균(20.1219)과 표본평균(19.9782) 사이의 차이는 약 0.14로 매우 작음. 이는 표본 추출 과정에서 발생하는 표본 오차\n",
        "* 중심극한정리에 따르면, 표본의 크기 (n =1000)가 충분히 크기 때문에, 추출된 표본 평균(x̄)은 모집단 평균(μ)의 좋은 추정치가 될 수 있음. (모평균을 중심으로 한 정규분포를 따를 것임)"
      ],
      "metadata": {
        "id": "bDUS7nRW7Zqu"
      }
    },
    {
      "cell_type": "markdown",
      "source": [
        "**2. 표준편차의 차이 (σ vs s)**\n",
        "\n",
        "* 모집단 표준편차(270.3567)는 표본 표준편차(54.4886)에 비해 매우 큼\n",
        "* 모집단은 극단적인 이상치들을 모두 포함하지만, 무작위로 추출된 1000개의 표본은 극소수의 이상치만을 포함하거나 포함하지 않을 확률이 높기 때문에 표본의 산포도(s)가 모집단의 산포도(σ)보다 훨씬 작게 나타남"
      ],
      "metadata": {
        "id": "8xk3Sbd-4vPY"
      }
    },
    {
      "cell_type": "code",
      "source": [
        "# 독립표본 t-검정 시행\n",
        "# 모집단과 표본의 TotalPrice 비교\n",
        "# Welch's t-test (equal_var=False) 사용\n",
        "t_statistic, p_value = stats.ttest_ind(df_clean['TotalPrice'], sample_df['TotalPrice'], equal_var=False)\n",
        "\n",
        "# 6. t-검정 결과 출력\n",
        "print(\"\\n--- 독립표본 t-검정 결과 ---\")\n",
        "print(f\"T-통계량: {t_statistic:.4f}\")\n",
        "print(f\"P-값: {p_value:.4f}\")"
      ],
      "metadata": {
        "colab": {
          "base_uri": "https://localhost:8080/"
        },
        "id": "m3vSplvIzMGe",
        "outputId": "d642c2f3-3992-4762-a502-721f9a17990c"
      },
      "execution_count": 223,
      "outputs": [
        {
          "output_type": "stream",
          "name": "stdout",
          "text": [
            "\n",
            "--- 독립표본 t-검정 결과 ---\n",
            "T-통계량: 0.0815\n",
            "P-값: 0.9350\n"
          ]
        }
      ]
    },
    {
      "cell_type": "markdown",
      "source": [
        "**1. 가설**\n",
        "\n",
        "* 귀무가설 (H0): 표본 평균(x̄)과 모평균(μ)은 통계적으로 차이가 없다\n",
        "* 대립가설 (H1): 표본 평균(x̄)과 모평균(μ)은 통계적으로 차이가 있다\n",
        "\n",
        "**2. 통계적 결론**\n",
        "\n",
        "* p-value: 계산된 p-value(0.9350)이 유의수준 α(0.05)보다 훨씬 크므로, 귀무가설을 기각할 수 없음\n",
        "* t-통계량: t-통계량이 0.0815로 0에 매우 가까우므로, 두 평균의 차이가 미미하다고 볼 수 있음\n",
        "\n",
        "**3. 최종 결론**\n",
        "\n",
        "* 무작위로 추출된 1000개의 표본의 평균은 모집단의 평균과 통계적으로 유의미한 차이가 없음\n",
        "* 이는 추출된 표본이 모집단의 특성을 잘 대표하고 있으며, 두 평균의 작은 차이(표본 오차)는 추출 과정에 발생한 것임을 알 수 있음\n",
        "* 이 결과는 충분히 큰 표본의 크기가 모수를 잘 추정하고 있음을 보여줌"
      ],
      "metadata": {
        "id": "90MZs8SX9dSX"
      }
    },
    {
      "cell_type": "markdown",
      "source": [
        "# **2. 주문이 가장 많은 상위 두 국가의 'TotalPrice' 평균에 차이가 있는지 검증하세요.**\n",
        "\n",
        "* 'Country' 변수를 바탕으로 주문이 가장 많은 상위 두 국가를 찾으세요.\n",
        "* 독립표본 t-검정을 사용하여 두 국가 간 'TotalPrice' 평균의 차이가 통계적으로 유의미한지 검증하세요.  \n",
        "* t-통계량과 p-값을 해석하여 결과를 설명하고, 1종 오류와 2종 오류의 개념을 적용하여 설명해주세요."
      ],
      "metadata": {
        "id": "dvTXhGBpNG2E"
      }
    },
    {
      "cell_type": "code",
      "source": [
        "# 1. 주문 상위 두 국가 선정 및 데이터 준비\n",
        "\n",
        "# Country별 주문 수를 세어 상위 2개 국가 확인\n",
        "top_2_countries = df_clean['Country'].value_counts().nlargest(2).index.tolist()\n",
        "country_A = top_2_countries[0]\n",
        "country_B = top_2_countries[1]\n",
        "\n",
        "print(f'주문이 가장 많은 상위 2개 국가: {country_A}와 {country_B}')"
      ],
      "metadata": {
        "id": "ffgl-6Kk9rrO",
        "colab": {
          "base_uri": "https://localhost:8080/"
        },
        "outputId": "58034f66-8563-462e-a7de-2c55218efb2b"
      },
      "execution_count": 224,
      "outputs": [
        {
          "output_type": "stream",
          "name": "stdout",
          "text": [
            "주문이 가장 많은 상위 2개 국가: United Kingdom와 Germany\n"
          ]
        }
      ]
    },
    {
      "cell_type": "code",
      "source": [
        "# 상위 두 국가의 데이터만 추출\n",
        "df_A = df_clean[df_clean['Country'] == country_A]['TotalPrice']\n",
        "df_B = df_clean[df_clean['Country'] == country_B]['TotalPrice']"
      ],
      "metadata": {
        "id": "UuN-1uRCNz_I"
      },
      "execution_count": 225,
      "outputs": []
    },
    {
      "cell_type": "code",
      "source": [
        "# 각 국가의 기본 통계량\n",
        "mean_A = df_A.mean()\n",
        "mean_B = df_B.mean()\n",
        "std_A = df_A.std()\n",
        "std_B = df_B.std()\n",
        "\n",
        "print(f\"\\n--- {country_A} ({len(df_A):,}건) ---\")\n",
        "print(f\"평균 TotalPrice: {mean_A:.4f}\")\n",
        "print(f\"표준편차: {std_A:.4f}\")\n",
        "\n",
        "print(f\"\\n--- {country_B} ({len(df_B):,}건) ---\")\n",
        "print(f\"평균 TotalPrice: {mean_B:.4f}\")\n",
        "print(f\"표준편차: {std_B:.4f}\")"
      ],
      "metadata": {
        "colab": {
          "base_uri": "https://localhost:8080/"
        },
        "id": "AeUp9yHrBZM3",
        "outputId": "50735661-f40d-42a2-d4f0-4b260e0019bb"
      },
      "execution_count": 226,
      "outputs": [
        {
          "output_type": "stream",
          "name": "stdout",
          "text": [
            "\n",
            "--- United Kingdom (485,123건) ---\n",
            "평균 TotalPrice: 18.6040\n",
            "표준편차: 281.2802\n",
            "\n",
            "--- Germany (9,040건) ---\n",
            "평균 TotalPrice: 25.3172\n",
            "표준편차: 35.4627\n"
          ]
        }
      ]
    },
    {
      "cell_type": "code",
      "source": [
        "# 2. 데이터 분포 시각화 및 설명\n",
        "\n",
        "# TotalPrice에 1을 더해 로그 변환 (0 또는 음수 방지)\n",
        "df_A_log = np.log1p(df_A)\n",
        "df_B_log = np.log1p(df_B)\n",
        "\n",
        "plt.figure(figsize=(12, 5))\n",
        "\n",
        "# Country A의 분포\n",
        "plt.subplot(1, 2, 1)\n",
        "sns.histplot(df_A_log, kde=True, bins=30, color='skyblue')\n",
        "plt.title(f'Log-Transformed TotalPrice Distribution in {country_A}')\n",
        "plt.xlabel('Log(TotalPrice + 1)')\n",
        "\n",
        "# Country B의 분포\n",
        "plt.subplot(1, 2, 2)\n",
        "sns.histplot(df_B_log, kde=True, bins=30, color='salmon')\n",
        "plt.title(f'Log-Transformed TotalPrice Distribution in {country_B}')\n",
        "plt.xlabel('Log(TotalPrice + 1)')\n",
        "\n",
        "plt.tight_layout()\n",
        "plt.show()"
      ],
      "metadata": {
        "colab": {
          "base_uri": "https://localhost:8080/",
          "height": 507
        },
        "id": "B_tDuWqlBZKD",
        "outputId": "787a4144-1ef6-42e7-c82a-454c135b98e7"
      },
      "execution_count": 227,
      "outputs": [
        {
          "output_type": "display_data",
          "data": {
            "text/plain": [
              "<Figure size 1200x500 with 2 Axes>"
            ],
            "image/png": "[encoded data removed]"
          },
          "metadata": {}
        }
      ]
    },
    {
      "cell_type": "markdown",
      "source": [
        "* 분포 형태: log 변환을 적용한 후에도 두 국가 모두 여전히 약간의 오른쪽 꼬리를 가지지만, 원래의 심하게 왜곡된 분포보다는 정규분포에 훨씬 가까운 종 모양\n",
        "* 평균 위치: UK의 평균 거래액(18.60)은 Germany의 평균 거래액(25.32)보다 확연히 낮은 위치에 분포의 중심히 형성됨\n",
        "* 표준편차: UK의 표준편차(281.28)는 Germany의 표준편차(35.46)에 비해 극단적으로 큼. 이는 UK 데이터에는 매우 크고 빈번한 이상치가 포함되어 있음을 의미"
      ],
      "metadata": {
        "id": "4q9vKmwgDH7c"
      }
    },
    {
      "cell_type": "code",
      "source": [
        "# 3. 독립표본 t-검정 시행 및 결과 해석\n",
        "\n",
        "# 독립표본 t-검정 시행\n",
        "# 두 국가의 분산이 크게 다르므로 (표준편차 값 확인), Welch's t-test 사용\n",
        "t_statistic, p_value = stats.ttest_ind(df_A, df_B, equal_var = False)\n",
        "\n",
        "print('--- 독립표본 t-검정 결과 ---')\n",
        "print(f't-통계량: {t_statistic:.4f}')\n",
        "print(f'p-value: {p_value:.4f}')"
      ],
      "metadata": {
        "colab": {
          "base_uri": "https://localhost:8080/"
        },
        "id": "fJL1D4cABZHU",
        "outputId": "4b400f9a-0e38-45d1-a362-22f1e6d852cb"
      },
      "execution_count": 228,
      "outputs": [
        {
          "output_type": "stream",
          "name": "stdout",
          "text": [
            "--- 독립표본 t-검정 결과 ---\n",
            "t-통계량: -12.2117\n",
            "p-value: 0.0000\n"
          ]
        }
      ]
    },
    {
      "cell_type": "markdown",
      "source": [
        "**1. 가설**\n",
        "* 귀무가설 (H0): 두 국가의 평균 'TotalPrice'는 차이가 없다\n",
        "* 대립가설 (H1): 두 국가의 평균 'TotalPrice'는 차이가 있다\n",
        "\n",
        "**2. t-통계량 (-12.2117)**\n",
        "* t-통계량 값이 0에서 매우 멀리 떨어진 큰 절대값을 가짐\n",
        "* 이는 귀무가설 (H0)하에서 이 정도의 평균 차이 (18.60 vs 25.32)가 우연히 발생할 확률이 매우 낮다는 것을 의미\n",
        "\n",
        "**3. p-value (0.0000)**\n",
        "* p-value가 유의수준보다 작으므로, 귀무가설 (H0)을 기각하고 대립가설 (H1)을 채택\n",
        "* UK의 평균 'TotalPrice'(18.60)와 Germany의 평균 'TotalPrice'(25.32) 사이에는 유의미한 차이가 존재"
      ],
      "metadata": {
        "id": "jBwVvSIzHpj1"
      }
    },
    {
      "cell_type": "markdown",
      "source": [
        "**1. 1종 오류 (Type I Error, α 오류)**\n",
        "* 귀무가설이 참인데, 귀무가설을 기각하는 경우\n",
        "* 실제로는 UK와 Germany의 평균 거래액이 같거나 비슷하지만, p-value = 0.0000이라는 결과가 나와 차이가 있다고 잘못 주장하는 것\n",
        "* 이 오류를 범할 확률은 유의수준 α = 0.05와 같음. 하지만 p-value 값이 0.0000으로 매우 작기 때문에, 1종 오류를 범할 위험도는 아주 낮음\n",
        "\n",
        "**2. 2종 오류 (Type I Error, β 오류)**\n",
        "* 대립가설이 참인데, 귀무가설 채택하는 경우\n",
        "* 실제로는 UK와 Germany의 평균 거래액에 차이가 있지만, t-검정 결과 우연히 p-value가 크게 나와 차이가 없다고 잘못 주장하는 것\n",
        "* 최종적으로 H0를 기각하고 H1을 채택하였으므로, 2종으류는 발생하지 않았음"
      ],
      "metadata": {
        "id": "ia2dXZ-UIy2e"
      }
    },
    {
      "cell_type": "markdown",
      "source": [
        "# **3. 주중, 주말에 따라서 발생하는 UnitPrice의 분포가 달라지는지 확인하세요.**\n",
        "\n",
        "* 주중의 'UnitPrice'와 주말의 'UnitPrice'의 분포를 분석하기 위해 데이터의 중심경향치(평균, 중간값), 변산성(표준편차, 분산), 분위수를 계산하세요.  \n",
        "* 상자수염그림과 히스토그램을 그려 시각화를 통해 분포를 확인하고 데이터의 분포에 대해 설명해주세요."
      ],
      "metadata": {
        "id": "yWpUgBedN0PK"
      }
    },
    {
      "cell_type": "code",
      "source": [
        "# 1. 주중/주말 데이터 분리 및 기술 통계량 계산\n",
        "\n",
        "# 'DayOfWeek'를 사용하여 주중(0-4)과 주말(5-6) 데이터 분리\n",
        "# 주중: 0 (월) ~ 4 (금)\n",
        "# 주말: 5 (토), 6 (일)\n",
        "df_weekday = df_clean[df_clean['DayOfWeek'].isin(range(5))]['UnitPrice']\n",
        "df_weekend = df_clean[df_clean['DayOfWeek'].isin([5, 6])]['UnitPrice']\n",
        "\n",
        "# 기술 통계량 계산 함수\n",
        "def describe_unitprice(data, label):\n",
        "    desc = data.describe()\n",
        "    print(f\"--- {label} UnitPrice 기술 통계량 ---\")\n",
        "    print(f\"평균 (Mean): {desc['mean']:.4f}\")\n",
        "    print(f\"중간값 (Median): {desc['50%']:.4f}\")\n",
        "    print(f\"표준편차 (Std Dev): {desc['std']:.4f}\")\n",
        "    print(f\"분산 (Variance): {desc['std']**2:.4f}\")\n",
        "    print(f\"1사분위수 (Q1, 25%): {desc['25%']:.4f}\")\n",
        "    print(f\"3사분위수 (Q3, 75%): {desc['75%']:.4f}\")\n",
        "\n",
        "describe_unitprice(df_weekday, \"주중 (Weekday)\")\n",
        "describe_unitprice(df_weekend, \"주말 (Weekend)\")"
      ],
      "metadata": {
        "id": "rAMuPWXh9uAN",
        "colab": {
          "base_uri": "https://localhost:8080/"
        },
        "outputId": "fd4cd745-159d-4b81-f410-375672846c9f"
      },
      "execution_count": 229,
      "outputs": [
        {
          "output_type": "stream",
          "name": "stdout",
          "text": [
            "--- 주중 (Weekday) UnitPrice 기술 통계량 ---\n",
            "평균 (Mean): 4.0508\n",
            "중간값 (Median): 2.1000\n",
            "표준편차 (Std Dev): 38.1885\n",
            "분산 (Variance): 1458.3635\n",
            "1사분위수 (Q1, 25%): 1.2500\n",
            "3사분위수 (Q3, 75%): 4.1300\n",
            "--- 주말 (Weekend) UnitPrice 기술 통계량 ---\n",
            "평균 (Mean): 2.8629\n",
            "중간값 (Median): 1.7900\n",
            "표준편차 (Std Dev): 7.7453\n",
            "분산 (Variance): 59.9896\n",
            "1사분위수 (Q1, 25%): 1.2500\n",
            "3사분위수 (Q3, 75%): 3.7500\n"
          ]
        }
      ]
    },
    {
      "cell_type": "markdown",
      "source": [
        "## **분포 설명**\n",
        "\n",
        "**1. 중심 경향치**\n",
        "* 주중의 평균(4.05)과 중간값(2.10)이 주말(2.86, 1.79)보다 약간 높음\n",
        "* 이는 주중에 더 고가이거나 대량의 거래가 발생할 가능성이 높음을 추측 가능\n",
        "* 하지만 평균과 중간값의 차이(주중: 1.95 / 주말: 1.07)를 볼 때, 두 분포 모두 오른쪽으로 심하게 치우쳐 있음(mean > median)을 알 수 있음\n",
        "\n",
        "**2. 변산성**\n",
        "* 주중의 표준편차(38.19)와 분산(1458.36)이 주말에 비해 압도적으로 큼\n",
        "* 주중 데이터에 극단적으로 높은 UnitPrice를 가진 이상치가 주말보다 훨씬 많이 포함되어 이썽 분포의 변동성을 크게 확장시키고 있음"
      ],
      "metadata": {
        "id": "OoGjHwQnn_Nc"
      }
    },
    {
      "cell_type": "code",
      "source": [
        "# 2. 시각화를 통한 분포 확인\n",
        "\n",
        "# 비교를 위해 데이터를 하나의 DataFrame으로 통합\n",
        "df_viz = df_clean.copy()\n",
        "df_viz['DayType'] = df_viz['DayOfWeek'].apply(lambda x: 'Weekday' if x < 5 else 'Weekend')\n",
        "\n",
        "plt.figure(figsize = (15,6))\n",
        "\n",
        "# Boxplot\n",
        "plt.subplot(1, 2, 1)\n",
        "# y축 범위를 0-50으로 제한하여 대부분의 데이터가 분포하는 영역 확인 (매우 큰 이상치 제외)\n",
        "sns.boxplot(x = 'DayType', y = 'UnitPrice', data = df_viz, showfliers = False)\n",
        "plt.title('UnitPrice Distribution: Box Plot (Outliers Removed)')\n",
        "plt.ylim(0, 50) # y-limit 설정으로 주요 분포 영역 확대\n",
        "plt.xlabel('Day Type')\n",
        "plt.ylabel('UnitPrice')\n",
        "\n",
        "# 히스토그램\n",
        "plt.subplot(1, 2, 2)\n",
        "# 로그 변환된 UnitPrice 분포 시각화 (왜도 감소)\n",
        "sns.histplot(data = df_viz, x = np.log1p(df_viz['UnitPrice']), hue = 'DayType', kde = True, bins = 30)\n",
        "plt.title('Log(UnitPrice + 1) Distribution: Histogram')\n",
        "plt.xlabel('Log(UnitPrice + 1)')\n",
        "plt.ylabel('Frequency')\n",
        "\n",
        "plt.tight_layout()\n",
        "plt.show()"
      ],
      "metadata": {
        "id": "qynX6XgM9t5n",
        "colab": {
          "base_uri": "https://localhost:8080/",
          "height": 607
        },
        "outputId": "ec915b91-1c09-437e-983c-6866e23477e5"
      },
      "execution_count": 230,
      "outputs": [
        {
          "output_type": "display_data",
          "data": {
            "text/plain": [
              "<Figure size 1500x600 with 2 Axes>"
            ],
            "image/png": "[encoded data removed]"
          },
          "metadata": {}
        }
      ]
    },
    {
      "cell_type": "markdown",
      "source": [
        "## **시각화를 통한 분포 설명**\n",
        "\n",
        "**1. Box plot**\n",
        "* 중앙값 및 IQR: 상자 그림에서 주중과 주말의 중앙선(중앙값) 및 상자의 크기(IQR)가 거의 유사. 이는 대부분의 거래가 집중되는 낮은 가격대에서는 주중과 주말의 가격 분포에 큰 차이가 없음을 의미\n",
        "* 이상치 처리: 그림의 y축 범위가 0-50으로 제한되어 있어, 수백/수천 단위의 극단저긴 이상치는 제외됨. 기술 통계량에서 확인된 주중의 거대한 표준편차는 이 상자 그림의 제한된 범위 밖에 위치하는 초고가 이상치들에 의해 발생함을 보여줌\n",
        "\n",
        "**2. 로그 변환 히스토그램**\n",
        "* 원래 분포의 왜도: 로그 변환을 적용하지 않은 원래의UnitPrice 데이터는 대부분의 값이 0에 가까이 몰려있고, 극소수의 이상치가 분포를 심하게 오른쪽으로 끌어당기는 극단적인 비대칭 분포를 가짐\n",
        "* 로그 분포의 형태: 로그 변환을 통해 왜도를 감소시켰지만, 여전히 분포는 종 모양 보다는 오른쪽으로 치우친 형태를 보임\n",
        "* 주중 vs 주말: 주중과 주말의 분포 형태와 중심 위치가 전반적으로 겹침. 주중의 거래 건수가 주말보다 훨씬 많기 때문에 주중 분포의 봉우리가 더 높게 나타나지만, UnitPrice가 주로 형성되는 구간은 두 요일 그룹에서 유사하게 나타남"
      ],
      "metadata": {
        "id": "CIc6Yupbnh2r"
      }
    },
    {
      "cell_type": "markdown",
      "source": [
        "## **결론**\n",
        "\n",
        "**1. 가격 중심은 유사**\n",
        "* 대부분의 거래가 발생하는 낮은 가격대(Q1-Q3)에서는 주중과 주말의 가격 분포는 큰 차이 없음\n",
        "\n",
        "**2. 변동성 차이**\n",
        "* 주중에는 극단적으로 높은 UnitPrice를 가진 이상치가 주말에 비해 훨씬 많아 압도적으로 큰 변산성을 가짐. 이는 주말에는 고가 또는 특이 거래가 주중에 비해 상대적으로 적다는 것을 의미"
      ],
      "metadata": {
        "id": "A1LxKEweqqq0"
      }
    },
    {
      "cell_type": "markdown",
      "source": [
        "# **4. 상품의 단가와 판매 국가, 판매 날짜을 이용해 판매 수량을 예측하는 회귀 모델을 만드세요.**\n",
        "* 필요한 데이터를 정리하고 결측치와 이상치를 제거해주세요.  \n",
        "* 변수를 다음과 같이 설정하여 다중 선형 회귀 분석을 진행하세요.\n",
        "    * 종속변수: 판매 수량(`Quantity`)\n",
        "    * 독립변수: 상품 단가(`UnitPrice`), 판매 국가(`Country`), 판매 요일(`DayOfWeek`), 판매 월( `InvoiceMonth`)   \n",
        "* 회귀계수와 결정계수를 활용하여 회귀 분석 결과를 해석해주세요."
      ],
      "metadata": {
        "id": "zbNpkFBBT4aK"
      }
    },
    {
      "cell_type": "code",
      "source": [
        "# 1. 데이터 전처리 및 이진 종속 변수 생성\n",
        "# 필요한 데이터프레임 복사\n",
        "df_reg = df_clean.copy()\n",
        "\n",
        "# 이상치 제거 (Quantity와 UnitPrice의 상위 1% 이상치 제거)\n",
        "df_reg = df_reg[df_reg['Quantity'] < df_reg['Quantity'].quantile(0.99)]\n",
        "df_reg = df_reg[df_reg['UnitPrice'] < df_reg['UnitPrice'].quantile(0.99)]\n",
        "\n",
        "# 범주형 변수 처리: 더미 변수 생성\n",
        "df_reg = pd.get_dummies(df_reg, columns = ['Country', 'DayOfWeek'], drop_first = True)\n",
        "\n",
        "# 이진 종속 변수 생성 (Quantity_High)\n",
        "median_quantity = df_reg['Quantity'].median()\n",
        "df_reg['Quantity_High'] = (df_reg['Quantity'] > median_quantity).astype(int)\n",
        "\n",
        "print(f\"Quantity의 중간값: {median_quantity}\")\n",
        "print(f\"Quantity_High (1: 높음, 0: 낮음)의 비율: {df_reg['Quantity_High'].mean():.4f}\")\n",
        "\n",
        "# 독립 변수(X)와 종속 변수(Y) 설정\n",
        "X_cols = ['UnitPrice', 'InvoiceMonth'] + [col for col in df_reg.columns if col.startswith('Country_') or col.startswith('DayOfWeek_')]\n",
        "X = df_reg[X_cols]\n",
        "Y_log = df_reg['Quantity_High']\n",
        "\n",
        "# 상수항(Intercept) 추가 및 데이터 타입/결측치 정리\n",
        "import statsmodels.api as sm\n",
        "\n",
        "X = X.astype(float).dropna()\n",
        "Y_log = Y_log[X.index] # X에서 제거된 행과 동일하게 Y에서도 제거\n",
        "\n",
        "# 분산이 거의 0인 열 제거 (Singular Matrix 방지 핵심!)\n",
        "# 분산이 0에 가까운(거의 상수인) 열은 다중공선성을 유발할 수 있으므로 제거\n",
        "epsilon = 1e-6\n",
        "low_variance_cols = X.columns[(X.std() < epsilon)].tolist()\n",
        "X = X.drop(columns = low_variance_cols)\n",
        "print(f'제거된 저분산 열 (1차): {low_variance_cols}')\n",
        "\n",
        "# 상수항 추가\n",
        "X_with_const = sm.add_constant(X)\n",
        "\n",
        "# === 다중공선성 회피를 위한 대체 전략: Country 변수 제거 후 학습 ===\n",
        "print(\"\\n--- Country 변수 제거 후 재학습 시도 (Singular Matrix 회피) ---\")\n",
        "\n",
        "# Country 변수가 제거된 새로운 X 데이터셋 생성\n",
        "X_safe_cols = ['UnitPrice', 'InvoiceMonth'] + [col for col in X.columns if col.startswith('DayOfWeek_')]\n",
        "X_safe = X[X_safe_cols]\n",
        "X_safe = sm.add_constant(X_safe)\n",
        "X_safe = X_safe.dropna()\n",
        "Y_safe = Y_log[X_safe.index]\n",
        "\n",
        "# 7. 로지스틱 회귀 모델 재학습 (Logit)\n",
        "log_model_safe = sm.Logit(Y_safe, X_safe).fit(disp=False)\n",
        "\n",
        "print(\"--- 로지스틱 회귀 분석 결과 (Logit - Country 제외) ---\")\n",
        "print(log_model_safe.summary())\n"
      ],
      "metadata": {
        "colab": {
          "base_uri": "https://localhost:8080/"
        },
        "id": "hcZUVWqi0mzT",
        "outputId": "efde1118-7088-4ae2-938f-90655280a59d"
      },
      "execution_count": 231,
      "outputs": [
        {
          "output_type": "stream",
          "name": "stdout",
          "text": [
            "Quantity의 중간값: 3.0\n",
            "Quantity_High (1: 높음, 0: 낮음)의 비율: 0.4950\n",
            "제거된 저분산 열 (1차): []\n",
            "\n",
            "--- Country 변수 제거 후 재학습 시도 (Singular Matrix 회피) ---\n",
            "--- 로지스틱 회귀 분석 결과 (Logit - Country 제외) ---\n",
            "                           Logit Regression Results                           \n",
            "==============================================================================\n",
            "Dep. Variable:          Quantity_High   No. Observations:               518118\n",
            "Model:                          Logit   Df Residuals:                   518110\n",
            "Method:                           MLE   Df Model:                            7\n",
            "Date:                Thu, 30 Oct 2025   Pseudo R-squ.:                 0.08542\n",
            "Time:                        07:21:26   Log-Likelihood:            -3.2843e+05\n",
            "converged:                       True   LL-Null:                   -3.5911e+05\n",
            "Covariance Type:            nonrobust   LLR p-value:                     0.000\n",
            "================================================================================\n",
            "                   coef    std err          z      P>|z|      [0.025      0.975]\n",
            "--------------------------------------------------------------------------------\n",
            "const            0.7915      0.010     78.037      0.000       0.772       0.811\n",
            "UnitPrice       -0.2834      0.001   -204.988      0.000      -0.286      -0.281\n",
            "InvoiceMonth    -0.0135      0.001    -16.081      0.000      -0.015      -0.012\n",
            "DayOfWeek_1      0.0677      0.010      6.931      0.000       0.049       0.087\n",
            "DayOfWeek_2      0.1780      0.010     17.889      0.000       0.158       0.197\n",
            "DayOfWeek_3      0.3456      0.010     35.377      0.000       0.327       0.365\n",
            "DayOfWeek_4      0.2125      0.010     20.569      0.000       0.192       0.233\n",
            "DayOfWeek_6     -0.2279      0.011    -20.886      0.000      -0.249      -0.207\n",
            "================================================================================\n"
          ]
        }
      ]
    },
    {
      "cell_type": "code",
      "source": [
        "# 2. 모델 학습 및 평가\n",
        "\n",
        "from sklearn.metrics import accuracy_score, confusion_matrix, classification_report\n",
        "\n",
        "# 에측 결과 생성\n",
        "Y_pred_safe = log_model_safe.predict(X_safe)\n",
        "Y_pred_class_safe = (Y_pred_safe > 0.5).astype(int)\n",
        "\n",
        "# 정확도 계산\n",
        "accuracy_safe = accuracy_score(Y_safe, Y_pred_class_safe)\n",
        "\n",
        "print(f'\\n--- 모델 분류 평가 ---')\n",
        "print(f'모델 정확도 (Accuracy - Contry 제외): {accuracy_safe: .4f}')"
      ],
      "metadata": {
        "colab": {
          "base_uri": "https://localhost:8080/"
        },
        "id": "srB19_8A4wWD",
        "outputId": "4b256b14-2deb-4391-891b-501359550aaf"
      },
      "execution_count": 232,
      "outputs": [
        {
          "output_type": "stream",
          "name": "stdout",
          "text": [
            "\n",
            "--- 모델 분류 평가 ---\n",
            "모델 정확도 (Accuracy - Contry 제외):  0.6382\n"
          ]
        }
      ]
    },
    {
      "cell_type": "markdown",
      "source": [
        "## **모델의 전체 성능 평가 (Pseudo R² 및 통계적 유의성)**\n",
        "\n",
        "**1. Pseudo R²(0.08542)**\n",
        "* 이 모델에 포함된 독립 변수들이 Quantity_High의 변동을 약 8.54% 설명\n",
        "* 로지스틱 회귀에서 이 정도 값은 흔하며, 설명력이 매우 낮다는 것은 예측에 영향을 미치는 다른 중요한 특성들(예: 고객 유형, 할인 여부)이 모델에 포함되지 않았음을 의미\n",
        "\n",
        "**2. LLR p-vlaue**\n",
        "* 우도비 검정(Likelihood Ratio Test) p-value가 0.05보다 작으므로, 이 모델은 전체적으로 통계적으로 유의미\n",
        "* 독립 변수들이 랜덤하게 예측하는 것보다는 유의하게 더 나은 예측을 제공"
      ],
      "metadata": {
        "id": "6W2Pco56wXZ9"
      }
    },
    {
      "cell_type": "markdown",
      "source": [
        "## **개별 독립 변수의 영향 분석 (회귀 계수 및 오즈비 활용)**\n",
        "\n",
        "**1. UnitPrice**\n",
        "* p < 0.05로, 단가 1 증가 시, 판매 수량이 높을 오즈가 1 - 0.753 = 24.7% 감소 (통계적으로 매우 유의)\n",
        "\n",
        "**2. InvoiceMonth**\n",
        "* p < 0.05로, 월이 1 증가할 때, 판매 수량이 높을 오즈가 약 1.3% 감소 (통계적으로 유의)\n",
        "\n",
        "**3. DayOfWeek_3 (목요일)**\n",
        "* 월요일 대비, 목요일은 판매 수량이 높을 오즈가 41.3% 증가하여 가장 활발한 요일임을 알 수 있음\n",
        "\n",
        "**4. DayOfWeek_6 (일요일)**\n",
        "* 월요일 대비, 일요일은 판매 수량이 높을 오즈가 1 - 0.796 = 20.4% 감소하여 가장 저조한 요일 중 하나임을 알 수 있음"
      ],
      "metadata": {
        "id": "NrkAc1gsyN-4"
      }
    },
    {
      "cell_type": "markdown",
      "source": [
        "## **모델의 분류 성능 평가 (정확도 활용)**\n",
        "\n",
        "1. 모델 정확도 (Accuracy)\n",
        "* 모델이 전체 관측치 중 약 63.82%를 Quantity_High 또는 Quantity_Low로 올바르게 분류\n",
        "* 무작위로 예측할 경우의 정확도 (50%)보다는 높지만, 63.82%의 정확도는 이 모델의 예측 능력이 보통 수준임을 의미\n",
        "* 이는 Pseudo R²가 낮았던 것과 일치하며, 판매 수량 분류에 영향을 미치는 Country 변수와 다른 잠재적 변수들을 추가하면 성능이 향상될 가능성 높음"
      ],
      "metadata": {
        "id": "mJL9mC9O83sX"
      }
    },
    {
      "cell_type": "markdown",
      "source": [
        "## 5. 상품 정보와 거래 정보를 바탕으로 해당 거래가 반품될 가능성을 예측하는 로지스틱 회귀 모델을 만드세요.\n",
        "* 필요한 데이터를 정리하고 결측치와 이상치를 제거해주세요.  \n",
        "* `Quantity` 피쳐를 활용해 `IsReturn` 피쳐를 생성하세요.\n",
        "* 모델 학습에 사용할 적절한 피쳐를 선정하세요.\n",
        "* 모델 학습과 검증을 위해 데이터셋을 train셋과 test셋으로 나누세요.\n",
        "* `IsReturn`을 예측하는 로지스틱 회귀 모델을 학습하세요.\n",
        "* 혼동행렬, 정밀도, 재현율, F1-score 등 다양한 평가지표를 사용하여 모델의 성능을 평가하세요.\n",
        "* 모델의 성능을 더 높일 수 있는 방안에 대해서 고민해보세요."
      ],
      "metadata": {
        "id": "QDgJTeRoUwjf"
      }
    },
    {
      "cell_type": "code",
      "source": [
        "# 1. 데이터 전처리 및 IsReturn 피쳐 생성\n",
        "\n",
        "import pandas as pd\n",
        "from sklearn.model_selection import train_test_split\n",
        "from sklearn.linear_model import LogisticRegression\n",
        "from sklearn.metrics import confusion_matrix, accuracy_score, precision_score, recall_score, f1_score\n",
        "import numpy as np\n",
        "import statsmodels.api as sm\n",
        "\n",
        "# df_clean (TotalPrice > 0) 데이터에서 시작\n",
        "\n",
        "# 반품 여부(IsReturn) 피처 생성: Quantity가 음수인 경우 (반품 거래)\n",
        "# 원본 데이터 df를 사용해야 Quantity가 음수인 반품 거래를 포착할 수 있음\n",
        "# (df_clean은 TotalPrice > 0 조건으로 이미 반품 거래를 제거했기 때문)\n",
        "df_full = df.copy()\n",
        "df_full['IsReturn'] = (df_full['Quantity'] < 0).astype(int)\n",
        "\n",
        "# 반품 거래는 TotalPrice가 음수이거나 0\n",
        "# 분석의 일관성을 위해 UnitPrice는 양수이고, Quantity가 0이 아닌 거래만 사용\n",
        "df_full = df_full[(df_full['UnitPrice'] > 0) & (df_full['Quantity'] != 0)].copy()\n",
        "\n",
        "# Quantity를 양수 값으로 변환 (반품 여부는 IsReturn이 처리)\n",
        "df_full['Quantity'] = df_full['Quantity'].abs()\n",
        "\n",
        "# 결측치 및 이상치 제거\n",
        "df_full = df_full.dropna()\n",
        "df_full = df_full[df_full['Quantity'] < df_full['Quantity'].quantile(0.99)]\n",
        "df_full = df_full[df_full['UnitPrice'] < df_full['UnitPrice'].quantile(0.99)]\n",
        "\n",
        "# 범주형 변수 처리 (더미 변수 생성)\n",
        "# Country와 DayOfWeek를 더미 변수로 변환. Time 정보도 활용하기 위해 InvoiceMonth 사용\n",
        "df_full = pd.get_dummies(df_full, columns=['Country', 'DayOfWeek'], drop_first=True)\n",
        "\n",
        "# 종속 변수 및 독립 변수 설정\n",
        "Y = df_full['IsReturn']\n",
        "X_cols = ['UnitPrice', 'Quantity', 'InvoiceMonth'] + [col for col in df_full.columns if col.startswith('Country_') or col.startswith('DayOfWeek_')]\n",
        "X = df_full[X_cols]\n",
        "\n",
        "# 데이터 타입 및 결측치 정리\n",
        "X = X.astype(float).dropna()\n",
        "Y = Y[X.index]"
      ],
      "metadata": {
        "id": "mcvefNO19yk6"
      },
      "execution_count": 233,
      "outputs": []
    },
    {
      "cell_type": "code",
      "source": [
        "# 2. 모델 학습 및 검증을 위한 데이터 분할\n",
        "\n",
        "# 데이터셋 분할 (80% train, 20% test)\n",
        "X_train, X_test, Y_train, Y_test = train_test_split(X, Y, test_size = 0.2, random_state = 42, stratify = Y)\n",
        "\n",
        "print(f'Train set 크기: {len(X_train)}')\n",
        "print(f'Test set 크기: {len(X_test)}')"
      ],
      "metadata": {
        "id": "qk0d5pqM9yVk",
        "colab": {
          "base_uri": "https://localhost:8080/"
        },
        "outputId": "e8e8c263-c645-4bfe-e1d1-097e71fbab7b"
      },
      "execution_count": 239,
      "outputs": [
        {
          "output_type": "stream",
          "name": "stdout",
          "text": [
            "Train set 크기: 318430\n",
            "Test set 크기: 79608\n"
          ]
        }
      ]
    },
    {
      "cell_type": "code",
      "source": [
        "# 3. 로지스틱 회귀 모델 학습 및 성능 평가\n",
        "\n",
        "# 로지스틱 회귀 모델 학습\n",
        "model_lr = LogisticRegression(solver='liblinear', random_state = 42)\n",
        "model_lr.fit(X_train, Y_train)\n",
        "\n",
        "# Test set으로 예측\n",
        "Y_pred = model_lr.predict(X_test)\n",
        "Y_proba = model_lr.predict_proba(X_test)[:, 1] # 확률 예측 (ROC AUC 등을 위해)\n",
        "\n",
        "# 평가지표 계산\n",
        "cm = confusion_matrix(Y_test, Y_pred)\n",
        "accuracy = accuracy_score(Y_test, Y_pred)\n",
        "precision = precision_score(Y_test, Y_pred)\n",
        "recall = recall_score(Y_test, Y_pred)\n",
        "f1 = f1_score(Y_test, Y_pred)\n",
        "\n",
        "print(\"--- 로지스틱 회귀 모델 성능 평가 ---\")\n",
        "print(f\"정확도 (Accuracy): {accuracy:.4f}\")\n",
        "print(f\"정밀도 (Precision): {precision:.4f}\")\n",
        "print(f\"재현율 (Recall): {recall:.4f}\")\n",
        "print(f\"F1-Score: {f1:.4f}\")\n",
        "print(\"\\n혼동 행렬 (Confusion Matrix):\")\n",
        "print(cm)"
      ],
      "metadata": {
        "colab": {
          "base_uri": "https://localhost:8080/"
        },
        "id": "ac3Ua4vSBRFu",
        "outputId": "b0ddfdec-cfdf-4a6f-bf42-736fa3b2e5d7"
      },
      "execution_count": 241,
      "outputs": [
        {
          "output_type": "stream",
          "name": "stdout",
          "text": [
            "--- 로지스틱 회귀 모델 성능 평가 ---\n",
            "정확도 (Accuracy): 0.9790\n",
            "정밀도 (Precision): 0.0000\n",
            "재현율 (Recall): 0.0000\n",
            "F1-Score: 0.0000\n",
            "\n",
            "혼동 행렬 (Confusion Matrix):\n",
            "[[77933     0]\n",
            " [ 1675     0]]\n"
          ]
        },
        {
          "output_type": "stream",
          "name": "stderr",
          "text": [
            "/usr/local/lib/python3.12/dist-packages/sklearn/metrics/_classification.py:1565: UndefinedMetricWarning: Precision is ill-defined and being set to 0.0 due to no predicted samples. Use `zero_division` parameter to control this behavior.\n",
            "  _warn_prf(average, modifier, f\"{metric.capitalize()} is\", len(result))\n"
          ]
        }
      ]
    },
    {
      "cell_type": "markdown",
      "source": [
        "## **반품 예측 모델 성능 평가**\n",
        "\n",
        "**모델 성능 평가 (혼동 행렬 기반)**\n",
        "* TN: 77933, FN: 1675, FP: 0, TP: 0으로 모델이 모든 거래를 정상 거래라고 예측.\n",
        "* 정확도: 전체 예측 중 97.90%를 맞춤. 이 수치는 데이터 불균형 때문에 높게 나온 것일 뿐, 실제 모델 성능을 반영하지 못함\n",
        "* 정밀도: 모델이 반품 (TP + FP)이라고 예측한 것이 없으므로 0\n",
        "* 재현율: 실제 반품 (TP + FN = 1675) 중 모델이 맞춘 것이 없으므로 0 (가장 심각한 문제)\n",
        "* F1-Score: 정밀도와 재현율의 조화 평균으로, 두 지표 중 하나라도 0이면 0\n",
        "* 현재 모델은 반품 예측 능력이 전혀 없음\n",
        "* 높은 정확도는 데이터 반품 거래가 2.1%로 극히 적기 때문에, 모델이 모든 것을 '반품 아님'이라고해도 0.979\n",
        "\n",
        "\n"
      ],
      "metadata": {
        "id": "DlO8MLQJDbFh"
      }
    },
    {
      "cell_type": "markdown",
      "source": [
        "## **모델 성능 개선 방안**\n",
        "**1. 데이터 불균형 해결 (가장 시급한 문제)**\n",
        "* 오버샘플링: 학습 데이터의 반품 클래스 샘플을 합성하여 클래스 비율을 1:1로 맞춘 후 모델 재학습\n",
        "* 클래스 가중치: 소수 클래스에 더 옾은 가중치를 부여하여 모델이 소수 클래스의 오류에 더 민감하게 반응하도록 함\n",
        "\n",
        "**2. 특성 공학 (Feature Engineering) 강화**\n",
        "* 고객/상품 기반 통계 특성 추가: 고객별 평균 반품 횟수, 상품별 반품률\n",
        "* 비율 특성 생성: 확인율 추정\n",
        "\n",
        "**3. 임계값 조정 및 모델 변경**\n",
        "* 임계값 조정: 로지스틱 회귀는 기본적으로 0.5를 기준으로 분류하지만, 현재 모델은 모든 예측 확률이 0.5 미만일 가능성이 높기 때문에, 재현율을 높이기 위해 분류 임계값을 0.1-0.2 등으로 낮추어 반품으로 예측하는 기준을 완화\n",
        "* 비선형 모델 사용: 로지스틱 회귀(선형 모델) 대신 랜덤 포레스트 등 복잡한 비선형 관계를 학습할 수 있는 모델을 사용하여 성능 개선\n",
        "\n"
      ],
      "metadata": {
        "id": "7vpyhjk_Ij5g"
      }
    }
  ]
}